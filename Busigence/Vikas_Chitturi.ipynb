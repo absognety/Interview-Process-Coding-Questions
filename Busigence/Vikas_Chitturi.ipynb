{
 "cells": [
  {
   "cell_type": "markdown",
   "metadata": {},
   "source": [
    "DATA ENGINEER - PYTHON PYSPARK"
   ]
  },
  {
   "cell_type": "markdown",
   "metadata": {},
   "source": [
    "This test consits of fifteen problems. You are required to write your code in cell below each problem and output the result in cell next to it "
   ]
  },
  {
   "cell_type": "markdown",
   "metadata": {},
   "source": [
    "Total Time Allowed: 3 hours"
   ]
  },
  {
   "cell_type": "markdown",
   "metadata": {},
   "source": [
    "Style1: 10 markes each shall be awarded for correct solution coded in object oriented paradign in Python3 <br>\n",
    "Style2: 15 marks each shall be awarded for correct solution coded in functional programming paradigm (lamda, map, reduce, filter etc) in Python3 <br>\n",
    "Style3: 20 marks each shall be awarded for correct solution coded in functional programming paradigm (dataframes, map, reduce, filter etc) in PySpark3"
   ]
  },
  {
   "cell_type": "markdown",
   "metadata": {},
   "source": [
    "Rename and Save the notebook with your FirstName_LastName (eg. Sahil_Gupta.ipynb)"
   ]
  },
  {
   "cell_type": "code",
   "execution_count": 1,
   "metadata": {},
   "outputs": [],
   "source": [
    "#Vikas Veerabhadra Chitturi\n",
    "#vikasch.1994@gmail.com\n",
    "#+91-9963844373"
   ]
  },
  {
   "cell_type": "markdown",
   "metadata": {},
   "source": [
    "********************************************* Test starts here **************************************************"
   ]
  },
  {
   "cell_type": "markdown",
   "metadata": {},
   "source": [
    "INSTRUCTIONS:\n",
    "    1. You are required to download and import five CSV files, one json file and one xml file\n",
    "    2. You would need to understand business involved behind CRM database tables. This is important\n",
    "    3. Code must be in Python3/PySpark3\n",
    "    4. Either your code should output something or leave the comment \"#solution code here\" as it is. We shall use 'Run All' in notebook and it shouldn't result error\n",
    "    5. Test the entire notebook before uploading to Google Form provided\n",
    "    6. You can use any Python3 library (two are imported already) or PySpark3 library. There is no restriction\n",
    "    7. Output fieldname to be displayed are marked as single quaotes '' in problem statement. You should use same field alias names whereever required\n",
    "    8. Notation for dataframe and/or array must be local to a problem's solution. Eg. Dataframe \"test\" for problem 8 should be df_prb8_test"
   ]
  },
  {
   "cell_type": "code",
   "execution_count": 2,
   "metadata": {},
   "outputs": [],
   "source": [
    "import numpy as np\n",
    "import pandas as pd\n",
    "from pyspark.sql import SparkSession\n",
    "from pyspark.sql.functions import *\n",
    "from pyspark.sql.types import *\n",
    "from collections import defaultdict\n",
    "import json"
   ]
  },
  {
   "cell_type": "code",
   "execution_count": 3,
   "metadata": {},
   "outputs": [
    {
     "name": "stdout",
     "output_type": "stream",
     "text": [
      "<pyspark.sql.session.SparkSession object at 0x7fa7a6083040>\n"
     ]
    }
   ],
   "source": [
    "#Please make sure this notebook is run on spark installed cluster/environment - Data processing is done in pyspark\n",
    "spark = SparkSession.builder\\\n",
    "          .master(\"local[4]\")\\\n",
    "          .appName(\"Assignment\")\\\n",
    "          .getOrCreate()\n",
    "print (spark)"
   ]
  },
  {
   "cell_type": "code",
   "execution_count": 4,
   "metadata": {},
   "outputs": [
    {
     "name": "stdout",
     "output_type": "stream",
     "text": [
      "Sales Teams...\n",
      "[Row(sales_agent='Donn Cantrell', manager='Rocco Neubert', regional_office='Central'), Row(sales_agent='James Ascencio', manager='Summer Sewald', regional_office='West'), Row(sales_agent='Vicki Laflamme', manager='Celia Rouche', regional_office='West'), Row(sales_agent='Niesha Huffines', manager='Melvin Marxen', regional_office='East'), Row(sales_agent='Kami Bicknell', manager='Summer Sewald', regional_office='West')]\n",
      "Accounts....\n",
      "[Row(account='Sunnamplex', revenue='4592.96', employees='13938.0'), Row(account='Silis', revenue='5339.57', employees='18053.0'), Row(account='Groovestreet', revenue='2728.86', employees='6486.0'), Row(account='Donware', revenue='2009.52', employees='3409.0'), Row(account='Wonka Industries', revenue='4962.27', employees='4687.0')]\n",
      "Clicks....\n",
      "[Row(created_on='2016-11-14', source='Referral', industry='IT'), Row(created_on='2016-11-14', source='Social', industry='IT'), Row(created_on='2016-11-14', source='Paid', industry='SaaS'), Row(created_on='2016-11-14', source='Direct', industry='SaaS'), Row(created_on='2016-11-15', source='Organic', industry='Health Care')]\n",
      "Products....\n",
      "[Row(product='GTXAdvanced', sales_price='649.0'), Row(product='GTXBasic', sales_price='641.0'), Row(product='MGRPFU', sales_price='3959.0'), Row(product='MGRPFS', sales_price='64.0'), Row(product='GTXPlusBasic', sales_price='1279.0')]\n",
      "Sales Pipeline....\n",
      "[Row(account='Sunnamplex', opportunity_id='67HY0MW7', sales_agent='Donn Cantrell', deal_stage='Won', product='GTXBasic', close_date='2017-05-06', close_value='500.0', created_on='2017-04-24'), Row(account=None, opportunity_id='MA82HVCI', sales_agent='James Ascencio', deal_stage='In_Progress', product='GTXPro', close_date=None, close_value=None, created_on='2017-06-15'), Row(account=None, opportunity_id='BRL1KVVH', sales_agent='Vicki Laflamme', deal_stage='Lost', product='GTXBasic', close_date='2017-08-03', close_value='0.0', created_on='2017-05-19'), Row(account='Silis', opportunity_id='R22O68FF', sales_agent='Niesha Huffines', deal_stage='Won', product='GTXBasic', close_date='2017-06-27', close_value='524.0', created_on='2017-03-21'), Row(account='Silis', opportunity_id='J78AK31N', sales_agent='Kami Bicknell', deal_stage='Won', product='MGRPFU', close_date='2017-08-04', close_value='4794.0', created_on='2017-05-15')]\n"
     ]
    }
   ],
   "source": [
    "#import CSVs here\n",
    "df_sales_teams = spark.read.format('csv')\\\n",
    "                      .option(\"header\",\"true\")\\\n",
    "                      .load(\"data/sales_teams.csv\")\n",
    "df_accounts = spark.read.format('csv')\\\n",
    "                      .option(\"header\",\"true\")\\\n",
    "                      .load(\"data/accounts.csv\")\n",
    "df_clicks = spark.read.format('csv')\\\n",
    "                      .option(\"header\",\"true\")\\\n",
    "                      .load(\"data/clicks.csv\")\n",
    "df_products = spark.read.format('csv')\\\n",
    "                      .option(\"header\",\"true\")\\\n",
    "                      .load(\"data/products.csv\")\n",
    "df_sales_pipeline = spark.read.format('csv')\\\n",
    "                      .option(\"header\",\"true\")\\\n",
    "                      .load(\"data/sales_pipeline.csv\")\n",
    "\n",
    "print (\"Sales Teams...\")\n",
    "print (df_sales_teams.take(5))\n",
    "\n",
    "print (\"Accounts....\")\n",
    "print (df_accounts.take(5))\n",
    "\n",
    "print (\"Clicks....\")\n",
    "print (df_clicks.take(5))\n",
    "\n",
    "print (\"Products....\")\n",
    "print (df_products.take(5))\n",
    "\n",
    "print (\"Sales Pipeline....\")\n",
    "print (df_sales_pipeline.take(5))\n",
    "\n",
    "#import JSONs here"
   ]
  },
  {
   "cell_type": "markdown",
   "metadata": {},
   "source": [
    "Refer & Use five CSVs to answer problem 1-10 below"
   ]
  },
  {
   "cell_type": "markdown",
   "metadata": {},
   "source": [
    "PROBLEM 1: Display 'Manager' and 'Grand Total Sales', for sales done by the sales agents reporting these managers"
   ]
  },
  {
   "cell_type": "code",
   "execution_count": 5,
   "metadata": {},
   "outputs": [
    {
     "name": "stdout",
     "output_type": "stream",
     "text": [
      "+-------------+-------------+-----------+-----------+\n",
      "|  sales_agent|      manager| deal_stage|close_value|\n",
      "+-------------+-------------+-----------+-----------+\n",
      "|Donn Cantrell|Rocco Neubert|        Won|      444.0|\n",
      "|Donn Cantrell|Rocco Neubert|In_Progress|       null|\n",
      "|Donn Cantrell|Rocco Neubert|       Lost|        0.0|\n",
      "|Donn Cantrell|Rocco Neubert|        Won|     7695.0|\n",
      "|Donn Cantrell|Rocco Neubert|        Won|     5531.0|\n",
      "|Donn Cantrell|Rocco Neubert|In_Progress|       null|\n",
      "|Donn Cantrell|Rocco Neubert|        Won|     7381.0|\n",
      "|Donn Cantrell|Rocco Neubert|        Won|      565.0|\n",
      "|Donn Cantrell|Rocco Neubert|In_Progress|       null|\n",
      "|Donn Cantrell|Rocco Neubert|        Won|     7905.0|\n",
      "+-------------+-------------+-----------+-----------+\n",
      "only showing top 10 rows\n",
      "\n",
      "14277\n",
      "+----------------+-----------------+\n",
      "|         manager|grand_total_sales|\n",
      "+----------------+-----------------+\n",
      "|    Celia Rouche|        2518466.0|\n",
      "|   Rocco Neubert|        3346813.0|\n",
      "|   Melvin Marxen|        4265901.0|\n",
      "|   Summer Sewald|        2915362.0|\n",
      "|      Cara Losch|        1861751.0|\n",
      "|Dustin Brinkmann|        3028635.0|\n",
      "+----------------+-----------------+\n",
      "\n"
     ]
    }
   ],
   "source": [
    "#solution code here\n",
    "#joining sales_teams and sales_pipeline tables\n",
    "df_st_sp_prob1 = df_sales_teams.select(\"sales_agent\",\"manager\").alias(\"a\")\\\n",
    "                         .join(df_sales_pipeline.select(\"sales_agent\",\"deal_stage\",\"close_value\").alias(\"b\"),\n",
    "                               on=col(\"a.sales_agent\")==col(\"b.sales_agent\"),how='left')\\\n",
    "                         .select([col(\"a.sales_agent\"),col(\"a.manager\"),col(\"b.deal_stage\"),col(\"b.close_value\")])\n",
    "df_st_sp_prob1.show(10) \n",
    "print (df_st_sp_prob1.count())\n",
    "#putting a filter on deal_stage=='Won' because it is considered as successful sale completed and close_value is the\n",
    "#final value for which product is sold after negotiation\n",
    "df_st_sp_prob1 = df_st_sp_prob1.filter(col(\"deal_stage\")==\"Won\")\n",
    "df_st_sp_prob1 = df_st_sp_prob1.withColumn(\"close_value\",df_st_sp_prob1[\"close_value\"].cast(DoubleType()))\n",
    "result_prob1 = df_st_sp_prob1.groupBy(\"manager\").agg(sum(\"close_value\").alias(\"grand_total_sales\"))\n",
    "result_prob1.show()"
   ]
  },
  {
   "cell_type": "markdown",
   "metadata": {},
   "source": [
    "PROBLEM 2: Display 'Sales Agents' and 'Sales' for those sales where product sold at profit"
   ]
  },
  {
   "cell_type": "code",
   "execution_count": 6,
   "metadata": {},
   "outputs": [
    {
     "name": "stdout",
     "output_type": "stream",
     "text": [
      "+--------------+-----------------+----------+------------+-----------+------------+\n",
      "|opportunity_id|      sales_agent|deal_stage|     product|final_price|actual_price|\n",
      "+--------------+-----------------+----------+------------+-----------+------------+\n",
      "|      67HY0MW7|    Donn Cantrell|       Won|    GTXBasic|      500.0|       641.0|\n",
      "|      R22O68FF|  Niesha Huffines|       Won|    GTXBasic|      524.0|       641.0|\n",
      "|      J78AK31N|    Kami Bicknell|       Won|      MGRPFU|     4794.0|      3959.0|\n",
      "|      8I9PRPGN|Versie Hillebrand|       Won|      MGRPFS|       67.0|        64.0|\n",
      "|      4VHUTHOJ|    Kami Bicknell|       Won|GTXPlusBasic|     1480.0|      1279.0|\n",
      "|      TMJ0OJ0B|  Kary Hendrixson|       Won|    GTXBasic|      635.0|       641.0|\n",
      "|      MD4PBMNN|    Anna Snelling|       Won|      MGRPFU|     3842.0|      3959.0|\n",
      "|      1XPVT5AY|  Kary Hendrixson|       Won|  GTXPlusPro|     5055.0|      6395.0|\n",
      "|      IH2QISS9|  Kary Hendrixson|       Won|      GTXPro|     4889.0|      5624.0|\n",
      "|      7JJ73XCX|   James Ascencio|       Won|GTXPlusBasic|     1226.0|      1279.0|\n",
      "|      T8QRTV6F|   James Ascencio|       Won|  GTXPlusPro|     9150.0|      6395.0|\n",
      "|      C7NFUAR6|Marty Freudenburg|       Won|GTXPlusBasic|     1380.0|      1279.0|\n",
      "|      NXRZZBVS|  Lajuana Vencill|       Won|      MGRPFU|     3620.0|      3959.0|\n",
      "|      H7ZQUWDJ|     Reed Clapper|       Won|    GTXBasic|      660.0|       641.0|\n",
      "|      YV47EGIC|    Anna Snelling|       Won|      MGRPFS|       44.0|        64.0|\n",
      "|      SC4LUMPZ|     Elease Gluck|       Won|      MGRPFS|       64.0|        64.0|\n",
      "|      ZES3NR0F|Versie Hillebrand|       Won|      MGRPFS|       54.0|        64.0|\n",
      "|      KJ1JOOQ0|  Niesha Huffines|       Won|      MGRPFS|       61.0|        64.0|\n",
      "|      ZHV68QKO|     Reed Clapper|       Won|      GTXPro|     4551.0|      5624.0|\n",
      "|      4RE1ST7V|    Kami Bicknell|       Won|  GTXPlusPro|     5213.0|      6395.0|\n",
      "+--------------+-----------------+----------+------------+-----------+------------+\n",
      "only showing top 20 rows\n",
      "\n",
      "6438\n",
      "+--------------+------------------+------------+-----------+------------+\n",
      "|opportunity_id|       sales_agent|     product|final_price|actual_price|\n",
      "+--------------+------------------+------------+-----------+------------+\n",
      "|      J78AK31N|     Kami Bicknell|      MGRPFU|     4794.0|      3959.0|\n",
      "|      8I9PRPGN| Versie Hillebrand|      MGRPFS|       67.0|        64.0|\n",
      "|      4VHUTHOJ|     Kami Bicknell|GTXPlusBasic|     1480.0|      1279.0|\n",
      "|      T8QRTV6F|    James Ascencio|  GTXPlusPro|     9150.0|      6395.0|\n",
      "|      C7NFUAR6| Marty Freudenburg|GTXPlusBasic|     1380.0|      1279.0|\n",
      "|      H7ZQUWDJ|      Reed Clapper|    GTXBasic|      660.0|       641.0|\n",
      "|      8S4H8GNZ|      Reed Clapper|      MGRPFU|     4750.0|      3959.0|\n",
      "|      P007M3B8| Marty Freudenburg|      MGRPFS|       75.0|        64.0|\n",
      "|      KI49INQW|  Gladys Colclough|GTXPlusBasic|     1524.0|      1279.0|\n",
      "|      2NAKBIH8|      Reed Clapper|      GTXPro|     7007.0|      5624.0|\n",
      "|      TGYPRG6Y|    Wilburn Farren|GTXPlusBasic|     1566.0|      1279.0|\n",
      "|      H8ONBK8M|   Kary Hendrixson|GTXPlusBasic|     1631.0|      1279.0|\n",
      "|      WB5W4F6P|      Reed Clapper|      GTXPro|     6894.0|      5624.0|\n",
      "|      VB2E4FRU|      Elease Gluck|      MGRPFU|     4712.0|      3959.0|\n",
      "|      VUNCUB75|Jonathan Berthelot|GTXPlusBasic|     1307.0|      1279.0|\n",
      "|      9UAMZCLW|      Elease Gluck|      MGRPFU|     4389.0|      3959.0|\n",
      "|      FH7HBET2|       Moses Frase|GTXPlusBasic|     1509.0|      1279.0|\n",
      "|      WHRDPR4H|   Darcel Schlecht|    GTXBasic|      875.0|       641.0|\n",
      "|      9L5HPLM6|   Niesha Huffines|    GTXBasic|      688.0|       641.0|\n",
      "|      AZF4JUJH|     Kami Bicknell|      MGRPFS|       66.0|        64.0|\n",
      "+--------------+------------------+------------+-----------+------------+\n",
      "only showing top 20 rows\n",
      "\n",
      "3386\n"
     ]
    }
   ],
   "source": [
    "#solution code here\n",
    "#joining sales_pipeline and products tables to get the mapping of actual and final prices\n",
    "df_sp_prod_prob2 = df_sales_pipeline.filter(col(\"deal_stage\")==\"Won\")\\\n",
    "                         .select(\"opportunity_id\",\"sales_agent\",\"deal_stage\",\"product\",\"close_value\").alias(\"a\")\\\n",
    "                         .join(df_products.select(\"product\",\"sales_price\").alias(\"b\"),\n",
    "                               on=col(\"a.product\")==col(\"b.product\"),how='left')\\\n",
    "                         .select([col(\"a.opportunity_id\"),col(\"a.sales_agent\"),col(\"a.deal_stage\"),col(\"a.product\"),\n",
    "                                  col(\"a.close_value\").alias(\"final_price\"),\n",
    "                                  col(\"b.sales_price\").alias(\"actual_price\")])\n",
    "df_sp_prod_prob2.show(20)\n",
    "print (df_sp_prod_prob2.count())\n",
    "\n",
    "#profit means final price (close_value) is greater than actual price (sales_price)\n",
    "result_prob2 = df_sp_prod_prob2.where(col(\"final_price\") > col(\"actual_price\"))\n",
    "result_prob2 = result_prob2.select(\"opportunity_id\",\"sales_agent\",\"product\",\"final_price\",\"actual_price\")\n",
    "result_prob2.show()\n",
    "print (result_prob2.count())"
   ]
  },
  {
   "cell_type": "markdown",
   "metadata": {},
   "source": [
    "PROBLEM 3: Display the 'Opportunity ID' and 'Days Taken to Close', for opportunities those got closed within a month"
   ]
  },
  {
   "cell_type": "code",
   "execution_count": 7,
   "metadata": {},
   "outputs": [
    {
     "name": "stdout",
     "output_type": "stream",
     "text": [
      "+--------------+----------------+\n",
      "|opportunity_id|DaysTakenToClose|\n",
      "+--------------+----------------+\n",
      "|      67HY0MW7|              12|\n",
      "|      R22O68FF|              98|\n",
      "|      J78AK31N|              81|\n",
      "|      8I9PRPGN|              41|\n",
      "|      4VHUTHOJ|               1|\n",
      "|      TMJ0OJ0B|              10|\n",
      "|      MD4PBMNN|              95|\n",
      "|      1XPVT5AY|              57|\n",
      "|      IH2QISS9|              94|\n",
      "|      7JJ73XCX|              61|\n",
      "|      T8QRTV6F|              10|\n",
      "|      C7NFUAR6|              65|\n",
      "|      NXRZZBVS|              52|\n",
      "|      H7ZQUWDJ|               9|\n",
      "|      YV47EGIC|              65|\n",
      "|      SC4LUMPZ|              53|\n",
      "|      ZES3NR0F|              89|\n",
      "|      KJ1JOOQ0|              13|\n",
      "|      ZHV68QKO|              89|\n",
      "|      4RE1ST7V|              22|\n",
      "|      8S4H8GNZ|              65|\n",
      "|      P007M3B8|             109|\n",
      "|      KI49INQW|              50|\n",
      "|      2NAKBIH8|              87|\n",
      "|      QRYFOK47|              36|\n",
      "|      3X1QOEBM|              68|\n",
      "|      TGYPRG6Y|              92|\n",
      "|      H8ONBK8M|              56|\n",
      "|      H0NRZ2VX|              22|\n",
      "|      NC7SHGMD|              71|\n",
      "+--------------+----------------+\n",
      "only showing top 30 rows\n",
      "\n",
      "6438\n",
      "+--------------+----------------+\n",
      "|opportunity_id|DaysTakenToClose|\n",
      "+--------------+----------------+\n",
      "|      67HY0MW7|              12|\n",
      "|      4VHUTHOJ|               1|\n",
      "|      TMJ0OJ0B|              10|\n",
      "|      T8QRTV6F|              10|\n",
      "|      H7ZQUWDJ|               9|\n",
      "|      KJ1JOOQ0|              13|\n",
      "|      4RE1ST7V|              22|\n",
      "|      H0NRZ2VX|              22|\n",
      "|      VB2E4FRU|               8|\n",
      "|      FLXHSKT4|              13|\n",
      "|      WHRDPR4H|              12|\n",
      "|      IF0LPAQA|              15|\n",
      "|      Z1L5OUDD|              12|\n",
      "|      NLKOGB9I|              18|\n",
      "|      MTEPBRDZ|               6|\n",
      "|      RVTAL02P|              11|\n",
      "|      4E73L1M3|              28|\n",
      "|      NASE5KTW|              12|\n",
      "|      LXTS18HY|               6|\n",
      "|      WA0B8VK9|              18|\n",
      "|      SPR1ZGYU|              30|\n",
      "|      L3BMFOAZ|               9|\n",
      "|      2CFS9GLC|              10|\n",
      "|      K1DFBO5B|              13|\n",
      "|      TRN9B8S9|               1|\n",
      "|      GCNZ7C5H|              13|\n",
      "|      ZWSHCZO3|              18|\n",
      "|      JEFB24SP|              18|\n",
      "|      9UXVO2DF|               7|\n",
      "|      WCP1FZLS|              10|\n",
      "+--------------+----------------+\n",
      "only showing top 30 rows\n",
      "\n",
      "2196\n"
     ]
    }
   ],
   "source": [
    "#solution code here\n",
    "#Filter on deal_stage and parsing the date column to date type and using datediff\n",
    "result_prob3 = df_sales_pipeline.filter(col(\"deal_stage\")==\"Won\")\\\n",
    "                                .withColumn(\"DaysTakenToClose\", \n",
    "                                            datediff(to_date(\"close_date\",\"yyyy-MM-dd\"),\n",
    "                                                     to_date(\"created_on\",\"yyyy-MM-dd\"))).select(\"opportunity_id\",\"DaysTakenToClose\")\n",
    "result_prob3.show(30)\n",
    "print (result_prob3.count())\n",
    "\n",
    "#hardcoding the range of month as 30 for now\n",
    "result_prob3 = result_prob3.filter(col(\"DaysTakenToClose\") <= 30)\n",
    "result_prob3.show(30)\n",
    "print (result_prob3.count())"
   ]
  },
  {
   "cell_type": "markdown",
   "metadata": {},
   "source": [
    "PROBLEM 4: Display product(s) got maximum leads (by count) generated from paid source"
   ]
  },
  {
   "cell_type": "code",
   "execution_count": 8,
   "metadata": {},
   "outputs": [],
   "source": [
    "#solution code here\n"
   ]
  },
  {
   "cell_type": "markdown",
   "metadata": {},
   "source": [
    "PROBLEM 5: Display 'Sales Agent' and 'Opportunity Count', for those sales agents who lost atleast two opportunties"
   ]
  },
  {
   "cell_type": "code",
   "execution_count": 9,
   "metadata": {},
   "outputs": [
    {
     "name": "stdout",
     "output_type": "stream",
     "text": [
      "+------------------+----------------------+\n",
      "|       sales_agent|numOfLostOpportunities|\n",
      "+------------------+----------------------+\n",
      "|   Darcel Schlecht|                   337|\n",
      "|     Kami Bicknell|                   134|\n",
      "|    Vicki Laflamme|                   162|\n",
      "|      Elease Gluck|                    62|\n",
      "|Jonathan Berthelot|                   185|\n",
      "|   Daniell Hammack|                    80|\n",
      "|     Anna Snelling|                   140|\n",
      "|      Cassey Cress|                   137|\n",
      "|     Garret Kinder|                    63|\n",
      "|    Markita Hansen|                   115|\n",
      "|      Reed Clapper|                    87|\n",
      "|Rosie Papadopoulos|                    56|\n",
      "|   Maureen Marcano|                   119|\n",
      "|  Violet Mclelland|                   111|\n",
      "|  Gladys Colclough|                   149|\n",
      "|         Boris Faz|                    63|\n",
      "|    Wilburn Farren|                    44|\n",
      "| Versie Hillebrand|                   118|\n",
      "| Marty Freudenburg|                   120|\n",
      "|    Cecily Lampkin|                    86|\n",
      "+------------------+----------------------+\n",
      "only showing top 20 rows\n",
      "\n",
      "30\n",
      "+------------------+----------------------+\n",
      "|       sales_agent|numOfLostOpportunities|\n",
      "+------------------+----------------------+\n",
      "|   Darcel Schlecht|                   337|\n",
      "|     Kami Bicknell|                   134|\n",
      "|    Vicki Laflamme|                   162|\n",
      "|      Elease Gluck|                    62|\n",
      "|Jonathan Berthelot|                   185|\n",
      "|   Daniell Hammack|                    80|\n",
      "|     Anna Snelling|                   140|\n",
      "|      Cassey Cress|                   137|\n",
      "|     Garret Kinder|                    63|\n",
      "|    Markita Hansen|                   115|\n",
      "|      Reed Clapper|                    87|\n",
      "|Rosie Papadopoulos|                    56|\n",
      "|   Maureen Marcano|                   119|\n",
      "|  Violet Mclelland|                   111|\n",
      "|  Gladys Colclough|                   149|\n",
      "|         Boris Faz|                    63|\n",
      "|    Wilburn Farren|                    44|\n",
      "| Versie Hillebrand|                   118|\n",
      "| Marty Freudenburg|                   120|\n",
      "|    Cecily Lampkin|                    86|\n",
      "+------------------+----------------------+\n",
      "only showing top 20 rows\n",
      "\n",
      "30\n",
      "validation test:  True\n"
     ]
    }
   ],
   "source": [
    "#solution code here\n",
    "result_prob5 = df_sales_pipeline.filter(col(\"deal_stage\")==\"Lost\")\\\n",
    "                                .select(\"sales_agent\",\"opportunity_id\")\\\n",
    "                                .groupBy(\"sales_agent\").agg(count(\"opportunity_id\").alias(\"numOfLostOpportunities\"))\n",
    "result_prob5.show(20)\n",
    "print (result_prob5.count())\n",
    "\n",
    "result_prob5 = result_prob5.filter(col(\"numOfLostOpportunities\") >= 2)\n",
    "\n",
    "result_prob5.show(20)\n",
    "print (result_prob5.count())\n",
    "\n",
    "#validation test\n",
    "print (\"validation test: \", result_prob5.agg(sum(\"numOfLostOpportunities\")).collect()[0][0] == df_sales_pipeline.filter(col(\"deal_stage\")==\"Lost\").count())"
   ]
  },
  {
   "cell_type": "markdown",
   "metadata": {},
   "source": [
    "PROBLEM 6: Display in ascending order of revenue, 'Account' and 'Revenue' for telecom accounts "
   ]
  },
  {
   "cell_type": "code",
   "execution_count": 10,
   "metadata": {},
   "outputs": [
    {
     "name": "stdout",
     "output_type": "stream",
     "text": [
      "+--------------------+-------+\n",
      "|             account|revenue|\n",
      "+--------------------+-------+\n",
      "|          Stanredtax|  14.79|\n",
      "|          Fasehatice|   19.2|\n",
      "|            Kan-code|  22.63|\n",
      "|           Treequote|   73.1|\n",
      "|           Konmatfix|  82.96|\n",
      "|Olivia Pope & Ass...|  97.94|\n",
      "|         Donquadtech| 110.88|\n",
      "|           Warephase| 130.62|\n",
      "|        Soylent Corp| 136.89|\n",
      "|         Iselectrics| 138.63|\n",
      "|              Yearin| 144.68|\n",
      "|           Ganjaflex|  161.8|\n",
      "|     Sterling Cooper| 204.47|\n",
      "|            Rangreen| 211.12|\n",
      "|            Xx-zobam| 221.86|\n",
      "|              Hatfan| 223.54|\n",
      "|            Betatech| 239.22|\n",
      "|           Duff Beer| 244.32|\n",
      "|         Good Burger| 247.91|\n",
      "|            Blackzim| 256.32|\n",
      "|             Nam-zim| 369.58|\n",
      "|         Krusty Krab| 372.21|\n",
      "|               Hooli| 374.84|\n",
      "|             Finhigh| 398.18|\n",
      "|            Hottechi|  431.1|\n",
      "|          Bubba Gump| 459.79|\n",
      "|          Green-Plus| 562.28|\n",
      "|              Sonron| 588.46|\n",
      "|             Codehow| 638.03|\n",
      "|          Lexiqvolax| 652.53|\n",
      "+--------------------+-------+\n",
      "only showing top 30 rows\n",
      "\n",
      "97\n"
     ]
    }
   ],
   "source": [
    "#solution code here\n",
    "df_accounts = df_accounts.withColumn(\"revenue\",df_accounts[\"revenue\"].cast(DoubleType()))\n",
    "result_prob6 = df_accounts.orderBy(\"revenue\",ascending=True).select(\"account\",\"revenue\")\n",
    "result_prob6.show(30)\n",
    "print (result_prob6.count())"
   ]
  },
  {
   "cell_type": "markdown",
   "metadata": {},
   "source": [
    "PROBLEM 7: Display by revenue generated, bottom five 'Industries' and 'Revenue'"
   ]
  },
  {
   "cell_type": "code",
   "execution_count": 11,
   "metadata": {},
   "outputs": [
    {
     "name": "stdout",
     "output_type": "stream",
     "text": [
      "+-----------------+-------+\n",
      "|          account|revenue|\n",
      "+-----------------+-------+\n",
      "|   Dalttechnology| 6085.6|\n",
      "|            Silis|5339.57|\n",
      "|            Newex|5093.78|\n",
      "| Wonka Industries|4962.27|\n",
      "|         Faxquote|4939.54|\n",
      "|       Sunnamplex|4592.96|\n",
      "|            Isdom|4514.68|\n",
      "|          Golddex|4340.32|\n",
      "|          Conecom|4242.85|\n",
      "| Stark Industries|4221.65|\n",
      "|         Scotfind|3911.27|\n",
      "|         Ron-tech|3805.02|\n",
      "|         Gogozoom| 3577.1|\n",
      "|       Bioholding| 3321.9|\n",
      "|         Zumgoity| 3264.4|\n",
      "|Wayne Enterprises|3193.45|\n",
      "|         Dontechi|2990.17|\n",
      "|       Gekko & Co|2934.79|\n",
      "|       Zathunicon|2913.82|\n",
      "|         Labdrill|2913.26|\n",
      "+-----------------+-------+\n",
      "only showing top 20 rows\n",
      "\n",
      "97\n",
      "+----------+-------+\n",
      "|   account|revenue|\n",
      "+----------+-------+\n",
      "|Stanredtax|  14.79|\n",
      "|Fasehatice|   19.2|\n",
      "|  Kan-code|  22.63|\n",
      "| Treequote|   73.1|\n",
      "| Konmatfix|  82.96|\n",
      "+----------+-------+\n",
      "only showing top 5 rows\n",
      "\n"
     ]
    }
   ],
   "source": [
    "#solution code here\n",
    "result_prob7 = df_accounts.orderBy(\"revenue\",ascending=False).select(\"account\",\"revenue\")\n",
    "result_prob7.show(20)\n",
    "print (result_prob7.count())\n",
    "#generating id incrementally for accounts sorted by revenue in decreasing order\n",
    "result_prob7 = result_prob7.withColumn(\"index\", monotonically_increasing_id())\n",
    "#sorting by index in descending order so that we get accounts with least revenue (bottom 5)\n",
    "result_prob7.orderBy(desc(\"index\")).drop(\"index\").show(5)"
   ]
  },
  {
   "cell_type": "markdown",
   "metadata": {},
   "source": [
    "PROBLEM 8: Display 'Month of Year' vs 'Sales', for GTXBasic. NOTE: \"Month of Year\" means month year (eg. Jan) and \"Month\" means month (eg. Jan 2020, Jan 2021 etc)"
   ]
  },
  {
   "cell_type": "code",
   "execution_count": 12,
   "metadata": {},
   "outputs": [
    {
     "name": "stdout",
     "output_type": "stream",
     "text": [
      "+--------------+-----------+--------+----------+----------+-------------+\n",
      "|opportunity_id| deal_stage| product|created_on|close_date|Month Of year|\n",
      "+--------------+-----------+--------+----------+----------+-------------+\n",
      "|      67HY0MW7|        Won|GTXBasic|2017-04-24|2017-05-06|     Apr 2017|\n",
      "|      BRL1KVVH|       Lost|GTXBasic|2017-05-19|2017-08-03|     May 2017|\n",
      "|      R22O68FF|        Won|GTXBasic|2017-03-21|2017-06-27|     Mar 2017|\n",
      "|      TMJ0OJ0B|        Won|GTXBasic|2017-06-30|2017-07-10|     Jun 2017|\n",
      "|      B22V5Z3B|       Lost|GTXBasic|2017-07-25|2017-08-07|     Jul 2017|\n",
      "|      H7ZQUWDJ|        Won|GTXBasic|2017-12-21|2017-12-30|     Dec 2017|\n",
      "|      HC77MZU1|       Lost|GTXBasic|2017-07-25|2017-09-07|     Jul 2017|\n",
      "|      27QUC5M7|In_Progress|GTXBasic|2017-11-01|      null|     Nov 2017|\n",
      "|      N3DXP5OP|In_Progress|GTXBasic|2017-02-05|      null|     Feb 2017|\n",
      "|      ZLLF7UHU|       Lost|GTXBasic|2017-09-20|2017-12-08|     Sep 2017|\n",
      "|      QRYFOK47|        Won|GTXBasic|2017-03-27|2017-05-02|     Mar 2017|\n",
      "|      QCA1IIKF|In_Progress|GTXBasic|2016-11-25|      null|     Nov 2016|\n",
      "|      P0I0DTBJ|       Lost|GTXBasic|2017-02-15|2017-04-04|     Feb 2017|\n",
      "|      5S5DO3QC|       Lost|GTXBasic|2017-01-08|2017-04-03|     Jan 2017|\n",
      "|      8QSPOR0V|       Lost|GTXBasic|2017-08-09|2017-09-12|     Aug 2017|\n",
      "|      WHRDPR4H|        Won|GTXBasic|2017-10-19|2017-10-31|     Oct 2017|\n",
      "|      V34SNG4P|In_Progress|GTXBasic|2017-10-04|      null|     Oct 2017|\n",
      "|      DNTUK4O1|In_Progress|GTXBasic|2017-05-21|      null|     May 2017|\n",
      "|      77VRR78O|       Lost|GTXBasic|2017-06-21|2017-09-06|     Jun 2017|\n",
      "|      E9JHZR7J|        Won|GTXBasic|2017-10-27|2017-12-16|     Oct 2017|\n",
      "|      9L5HPLM6|        Won|GTXBasic|2017-06-22|2017-10-02|     Jun 2017|\n",
      "|      OL2RFQCM|        Won|GTXBasic|2017-06-20|2017-08-16|     Jun 2017|\n",
      "|      377G0K33|       Lost|GTXBasic|2017-10-23|2017-10-25|     Oct 2017|\n",
      "|      Y131Y9KM|In_Progress|GTXBasic|2017-03-10|      null|     Mar 2017|\n",
      "|      NEJZ68R1|       Lost|GTXBasic|2017-07-02|2017-07-07|     Jul 2017|\n",
      "|      FOSIPD0U|In_Progress|GTXBasic|2017-09-17|      null|     Sep 2017|\n",
      "|      JYYU4CDI|In_Progress|GTXBasic|2017-06-25|      null|     Jun 2017|\n",
      "|      6RNOFZRB|In_Progress|GTXBasic|2017-10-21|      null|     Oct 2017|\n",
      "|      NFNYO1WJ|        Won|GTXBasic|2017-08-07|2017-09-11|     Aug 2017|\n",
      "|      BQ91O7T3|        Won|GTXBasic|2017-05-13|2017-07-03|     May 2017|\n",
      "+--------------+-----------+--------+----------+----------+-------------+\n",
      "only showing top 30 rows\n",
      "\n",
      "3062\n"
     ]
    }
   ],
   "source": [
    "#solution code here\n",
    "#formatting created_on (sales initiation date)\n",
    "result_prob8 = df_sales_pipeline.filter(col(\"product\")=='GTXBasic')\\\n",
    "                                .select(\"opportunity_id\",\"deal_stage\",\"product\",\"created_on\",\"close_date\")\\\n",
    "                                .withColumn(\"Month Of year\",date_format(\"created_on\",\"LLL y\"))\n",
    "result_prob8.show(30)\n",
    "print (result_prob8.count())"
   ]
  },
  {
   "cell_type": "markdown",
   "metadata": {},
   "source": [
    "PROBLEM 9: Which sales agent(s) never lost a deal. Display as a dictionary {sales agent:sales}"
   ]
  },
  {
   "cell_type": "code",
   "execution_count": 13,
   "metadata": {},
   "outputs": [
    {
     "name": "stdout",
     "output_type": "stream",
     "text": [
      "dict_keys(['Donn Cantrell', 'James Ascencio', 'Niesha Huffines', 'Kami Bicknell', 'Versie Hillebrand', 'Kary Hendrixson', 'Anna Snelling', 'Vicki Laflamme', 'Darcel Schlecht', 'Marty Freudenburg', 'Lajuana Vencill', 'Reed Clapper', 'Elease Gluck', 'Rosie Papadopoulos', 'Jonathan Berthelot', 'Zane Levy', 'Rosalina Dieter', 'Cecily Lampkin', 'Gladys Colclough', 'Daniell Hammack', 'Moses Frase', 'Wilburn Farren', 'Violet Mclelland', 'Markita Hansen', 'Corliss Cosme', 'Cassey Cress', 'Boris Faz', 'Maureen Marcano', 'Hayden Neloms', 'Garret Kinder'])\n",
      "30\n"
     ]
    }
   ],
   "source": [
    "#solution code here\n",
    "df_sales_notlost = df_sales_pipeline.filter(col(\"deal_stage\") != \"Lost\").select(\"opportunity_id\",\"sales_agent\",\"close_value\")\n",
    "result_prob9 = defaultdict(list)\n",
    "for row in df_sales_notlost.toJSON().collect():\n",
    "    row_json = json.loads(row)\n",
    "    if \"close_value\" in row_json:\n",
    "        result_prob9[row_json['sales_agent']].append({\"opportunity_id\":row_json['opportunity_id'],\n",
    "                                                      \"close_value\":row_json[\"close_value\"]})\n",
    "    else:\n",
    "        result_prob9[row_json['sales_agent']].append({\"opportunity_id\":row_json['opportunity_id'],\n",
    "                                                      \"close_value\":None})\n",
    "print (result_prob9.keys())\n",
    "print (len(result_prob9.keys()))"
   ]
  },
  {
   "cell_type": "markdown",
   "metadata": {},
   "source": [
    "PROBLEM 10: Display 'Sales Agents', 'Product', and 'Sales', for those sales agents who closed more than one deal on same day"
   ]
  },
  {
   "cell_type": "code",
   "execution_count": 14,
   "metadata": {},
   "outputs": [
    {
     "name": "stdout",
     "output_type": "stream",
     "text": [
      "+--------------+-----------------+------------+----------------+\n",
      "|opportunity_id|      sales_agent|     product|DaysTakenToClose|\n",
      "+--------------+-----------------+------------+----------------+\n",
      "|      67HY0MW7|    Donn Cantrell|    GTXBasic|              12|\n",
      "|      R22O68FF|  Niesha Huffines|    GTXBasic|              98|\n",
      "|      J78AK31N|    Kami Bicknell|      MGRPFU|              81|\n",
      "|      8I9PRPGN|Versie Hillebrand|      MGRPFS|              41|\n",
      "|      4VHUTHOJ|    Kami Bicknell|GTXPlusBasic|               1|\n",
      "|      TMJ0OJ0B|  Kary Hendrixson|    GTXBasic|              10|\n",
      "|      MD4PBMNN|    Anna Snelling|      MGRPFU|              95|\n",
      "|      1XPVT5AY|  Kary Hendrixson|  GTXPlusPro|              57|\n",
      "|      IH2QISS9|  Kary Hendrixson|      GTXPro|              94|\n",
      "|      7JJ73XCX|   James Ascencio|GTXPlusBasic|              61|\n",
      "|      T8QRTV6F|   James Ascencio|  GTXPlusPro|              10|\n",
      "|      C7NFUAR6|Marty Freudenburg|GTXPlusBasic|              65|\n",
      "|      NXRZZBVS|  Lajuana Vencill|      MGRPFU|              52|\n",
      "|      H7ZQUWDJ|     Reed Clapper|    GTXBasic|               9|\n",
      "|      YV47EGIC|    Anna Snelling|      MGRPFS|              65|\n",
      "|      SC4LUMPZ|     Elease Gluck|      MGRPFS|              53|\n",
      "|      ZES3NR0F|Versie Hillebrand|      MGRPFS|              89|\n",
      "|      KJ1JOOQ0|  Niesha Huffines|      MGRPFS|              13|\n",
      "|      ZHV68QKO|     Reed Clapper|      GTXPro|              89|\n",
      "|      4RE1ST7V|    Kami Bicknell|  GTXPlusPro|              22|\n",
      "+--------------+-----------------+------------+----------------+\n",
      "only showing top 20 rows\n",
      "\n",
      "6438\n",
      "+------------------+------------+-----------------------+\n",
      "|       sales_agent|     product|completed_opportunities|\n",
      "+------------------+------------+-----------------------+\n",
      "|    Markita Hansen|GTXPlusBasic|                      2|\n",
      "|   Darcel Schlecht|      GTXPro|                      2|\n",
      "| Marty Freudenburg|    GTXBasic|                      2|\n",
      "|     Kami Bicknell|GTXPlusBasic|                      2|\n",
      "|  Gladys Colclough|GTXPlusBasic|                      2|\n",
      "|   Darcel Schlecht|      MGRPFS|                      2|\n",
      "|   Darcel Schlecht|GTXPlusBasic|                      2|\n",
      "|Jonathan Berthelot|    GTXBasic|                      6|\n",
      "|       Moses Frase|    GTXBasic|                      2|\n",
      "|     Kami Bicknell|    GTXBasic|                      2|\n",
      "|      Cassey Cress|    GTXBasic|                      2|\n",
      "|Rosie Papadopoulos|    GTXBasic|                      2|\n",
      "|     Anna Snelling|  GTXPlusPro|                      3|\n",
      "|   Kary Hendrixson|    GTXBasic|                      2|\n",
      "+------------------+------------+-----------------------+\n",
      "\n",
      "14\n"
     ]
    }
   ],
   "source": [
    "#solution code here\n",
    "result_prob10 = df_sales_pipeline.filter(col(\"deal_stage\")==\"Won\")\\\n",
    "                                 .withColumn(\"DaysTakenToClose\", \n",
    "                                            datediff(to_date(\"close_date\",\"yyyy-MM-dd\"),\n",
    "                                                     to_date(\"created_on\",\"yyyy-MM-dd\")))\\\n",
    "                                 .select(\"opportunity_id\",\"sales_agent\",\"product\",\"DaysTakenToClose\")\n",
    "\n",
    "result_prob10.show(20)\n",
    "print (result_prob10.count())\n",
    "result_prob10 = result_prob10.filter(col(\"DaysTakenToClose\") == 1)\\\n",
    "                             .select(\"sales_agent\",\"product\",\"opportunity_id\")\\\n",
    "                             .groupBy(\"sales_agent\",\"product\").agg(count(\"opportunity_id\").alias(\"completed_opportunities\"))\\\n",
    "                             .filter(col(\"completed_opportunities\") > 1)\n",
    "\n",
    "result_prob10.show(20)\n",
    "print (result_prob10.count())"
   ]
  },
  {
   "cell_type": "markdown",
   "metadata": {},
   "source": [
    "Refer & Use Orchestra.json to answer problem 11-13 below"
   ]
  },
  {
   "cell_type": "markdown",
   "metadata": {},
   "source": [
    "PROBLEM 11: Display the instrument played by Lehmann Caroline"
   ]
  },
  {
   "cell_type": "code",
   "execution_count": 15,
   "metadata": {},
   "outputs": [
    {
     "name": "stdout",
     "output_type": "stream",
     "text": [
      "+--------------------+--------------------+--------------------+---------+-------+--------------------+\n",
      "|            concerts|                  id|           orchestra|programID| season|               works|\n",
      "+--------------------+--------------------+--------------------+---------+-------+--------------------+\n",
      "|[{1842-12-07T05:0...|00646b9f-fec7-4ff...|New York Philharm...|     3853|1842-43|[{52446*, Beethov...|\n",
      "|[{1843-02-18T05:0...|1118e84e-eb59-46c...|New York Philharm...|     5178|1842-43|[{52437*, Beethov...|\n",
      "|[{1843-04-07T05:0...|08536612-27c3-437...|Musicians from th...|    10785|1842-43|[{52364*1, Beetho...|\n",
      "|[{1843-04-22T05:0...|81a3b8de-1737-4c9...|New York Philharm...|     5887|1842-43|[{52434*, Beethov...|\n",
      "|[{1843-11-18T05:0...|09581bb7-8855-496...|New York Philharm...|      305|1843-44|[{52453*, Beethov...|\n",
      "|[{1844-01-13T05:0...|0848266c-8eee-48a...|New York Philharm...|     3368|1843-44|[{51668*, Mozart,...|\n",
      "|[{1844-03-16T05:0...|8025e763-9c12-415...|New York Philharm...|     4226|1843-44|[{3707*, Spohr,  ...|\n",
      "|[{1844-05-18T05:0...|19d44866-ee7b-48d...|New York Philharm...|     5087|1843-44|[{52446*, Beethov...|\n",
      "|[{1844-11-16T05:0...|4f13ab38-9eb4-414...|New York Philharm...|     6310|1844-45|[{52456*, Beethov...|\n",
      "|[{1845-01-11T05:0...|7725e2f7-7f77-41d...|New York Philharm...|     1979|1844-45|[{51727*, Haydn, ...|\n",
      "|[{1845-03-01T05:0...|f1de3488-6831-408...|New York Philharm...|     2821|1844-45|[{52437*, Beethov...|\n",
      "|[{1845-04-19T05:0...|cd444e18-1fcd-4d6...|New York Philharm...|     3259|1844-45|[{52453*, Beethov...|\n",
      "|[{1845-11-22T05:0...|51ee4702-8f57-4fe...|New York Philharm...|     4919|1845-46|[{52575*, Mendels...|\n",
      "|[{1846-01-17T05:0...|1b162182-4605-4cb...|New York Philharm...|      562|1845-46|[{52446*, Beethov...|\n",
      "|[{1846-03-07T05:0...|66cc492e-e6eb-42e...|New York Philharm...|     1408|1845-46|[{3826*, Kalliwod...|\n",
      "|[{1846-04-25T05:0...|08205151-c17b-4de...|New York Philharm...|     1851|1845-46|[{51664*, Mozart,...|\n",
      "|[{1846-05-20T05:0...|079d4d73-e2e7-4c8...|New York Philharm...|     2321|1845-46|[{6709*16, Weber,...|\n",
      "|[{1846-11-21T05:0...|f679abf1-6beb-408...|New York Philharm...|     3540|1846-47|[{3864*, Spohr,  ...|\n",
      "|[{1847-01-09T05:0...|111c22e5-0527-4e1...|New York Philharm...|     6573|1846-47|[{51658*, Mozart,...|\n",
      "|[{1847-03-06T05:0...|07ffca52-b177-43c...|New York Philharm...|       47|1846-47|[{52453*, Beethov...|\n",
      "+--------------------+--------------------+--------------------+---------+-------+--------------------+\n",
      "only showing top 20 rows\n",
      "\n",
      "1033\n"
     ]
    }
   ],
   "source": [
    "#solution code here\n",
    "#Edited the orchestra.json file to retrieve the proper JSON structure to accommodate Array of JSON objects\n",
    "df_orchestra = spark.read.format(\"json\").option(\"multiline\",\"true\").load(\"data/Orchestra.json\")\n",
    "df_orchestra.show(20)\n",
    "print (df_orchestra.count())"
   ]
  },
  {
   "cell_type": "code",
   "execution_count": 16,
   "metadata": {},
   "outputs": [
    {
     "data": {
      "text/plain": [
       "[('concerts',\n",
       "  'array<struct<Date:string,Location:string,Time:string,Venue:string,eventType:string>>'),\n",
       " ('id', 'string'),\n",
       " ('orchestra', 'string'),\n",
       " ('programID', 'string'),\n",
       " ('season', 'string'),\n",
       " ('works',\n",
       "  'array<struct<ID:string,composerName:string,conductorName:string,interval:string,movement:string,soloists:array<struct<soloistInstrument:string,soloistName:string,soloistRoles:string>>,workTitle:string>>')]"
      ]
     },
     "execution_count": 16,
     "metadata": {},
     "output_type": "execute_result"
    }
   ],
   "source": [
    "df_orchestra.dtypes"
   ]
  },
  {
   "cell_type": "code",
   "execution_count": 17,
   "metadata": {},
   "outputs": [],
   "source": [
    "def getRequiredInstrument(ws,soloist_name):\n",
    "    exists = None\n",
    "    for work in ws:\n",
    "        if len(work['soloists']) > 0:\n",
    "            for soloist_element in work['soloists']:\n",
    "                if soloist_element[\"soloistName\"] == soloist_name:\n",
    "                    exists = 1\n",
    "                    break\n",
    "            if exists == 1:\n",
    "                break\n",
    "        else:\n",
    "            continue\n",
    "    if exists:\n",
    "        return soloist_element[\"soloistInstrument\"]\n",
    "    else:\n",
    "        return \"\"\n",
    "\n",
    "instrumentUDF = udf(lambda colname,sname: getRequiredInstrument(colname,sname))"
   ]
  },
  {
   "cell_type": "code",
   "execution_count": 18,
   "metadata": {},
   "outputs": [
    {
     "name": "stdout",
     "output_type": "stream",
     "text": [
      "+--------------------+--------------------+--------------------+---------+-----------------+\n",
      "|                  id|           orchestra|               works|programID|return_instrument|\n",
      "+--------------------+--------------------+--------------------+---------+-----------------+\n",
      "|21b49b4a-1805-41b...|New York Philharm...|[{52437*, Beethov...|     5792|          Soprano|\n",
      "|89c1db0d-8c41-476...|New York Philharm...|[{52577*, Mendels...|     2149|          Soprano|\n",
      "|4e81347f-898d-48b...|New York Philharm...|[{52374*1, Cherub...|     6613|          Soprano|\n",
      "+--------------------+--------------------+--------------------+---------+-----------------+\n",
      "\n"
     ]
    }
   ],
   "source": [
    "test = df_orchestra.withColumn(\"return_instrument\",instrumentUDF(\"works\",lit(\"Lehmann, Caroline\")))\n",
    "test.select(\"id\",\"orchestra\",\"works\",\"programID\",\"return_instrument\").filter(col(\"return_instrument\")!=\"\").show(40)"
   ]
  },
  {
   "cell_type": "markdown",
   "metadata": {},
   "source": [
    "PROBLEM 12: Display all vocalists"
   ]
  },
  {
   "cell_type": "code",
   "execution_count": 19,
   "metadata": {},
   "outputs": [
    {
     "data": {
      "text/plain": [
       "[Row(composerName=['Beethoven,  Ludwig  van', 'Weber,  Carl  Maria Von', 'Hummel,  Johann', 'Pacini,  Giovanni', 'Romberg,  Bernhard', 'Onslow,  George', 'Onslow,  George', 'Rossini,  Gioachino', 'Thalberg,  Sigismond', 'Mozart,  Wolfgang  Amadeus', 'Herz,  Henri', 'Lindpaintner,  Peter  Von']),\n",
       " Row(composerName=['Beethoven,  Ludwig  van', 'Vieuxtemps,  Henri', 'Mendelssohn,  Felix', 'Donizetti,  Gaetano', 'Weber,  Carl  Maria Von']),\n",
       " Row(composerName=['Beethoven,  Ludwig  van', None, 'Loder,  George, Jr.', 'Mendelssohn,  Felix', 'Lindpaintner,  Peter  Von', 'Beriot,  Charles-Auguste  de', 'Reissiger,  Karl  Gottlieb']),\n",
       " Row(composerName=['Schumann,  Robert', 'Haydn,  Franz  Joseph', 'Ernst,  Heinrich  Wilhelm', None, 'Rietz,  Julius', 'Weber,  Carl  Maria Von', 'Mollenhauer,  Friedrich', None, 'Beethoven,  Ludwig  van']),\n",
       " Row(composerName=['Strauss,  Richard', 'Beethoven,  Ludwig  van', None, 'Volkmann,  Friedrich  Robert', 'Schumann,  Robert']),\n",
       " Row(composerName=['Wagner,  Richard', 'Rubinstein,  Anton', 'Joachim,  Joseph', None, 'Beethoven,  Ludwig  van']),\n",
       " Row(composerName=['Wagner,  Richard', 'Wagner,  Richard', 'Schubert,  Franz', None, 'Tchaikovsky,  Pyotr  Ilyich']),\n",
       " Row(composerName=['Wagner,  Richard', 'Godard,  Benjamin', 'Svendsen,  Johan', 'Beethoven,  Ludwig  van', 'Beethoven,  Ludwig  van', 'Delibes,  Léo', 'Delibes,  Léo', None, 'Beethoven,  Ludwig  van', 'Wagner,  Richard', 'Arditi,  Luigi', 'Schenck,  Elliott', 'Schenck,  Elliott', 'Ziehrer,  Carl  Michael']),\n",
       " Row(composerName=['Bulow,  Hans  Von', 'Brahms,  Johannes', 'Verdi,  Giuseppe', 'Verdi,  Giuseppe', 'Liszt,  Franz', 'Pfeffer,  Walter', None, 'Beethoven,  Ludwig  van']),\n",
       " Row(composerName=['Schumann,  Robert', 'Saint-Saens [Saint-Saëns],  Camille', None, 'Wagner,  Richard', 'Wagner,  Richard', 'Wagner,  Richard', 'Wagner,  Richard', 'Beethoven,  Ludwig  van'])]"
      ]
     },
     "execution_count": 19,
     "metadata": {},
     "output_type": "execute_result"
    }
   ],
   "source": [
    "#solution code here\n",
    "df_orchestra.select(\"works.composerName\").distinct().take(10)"
   ]
  },
  {
   "cell_type": "markdown",
   "metadata": {},
   "source": [
    "PROBLEM 13: Display orchestra played under program id 2561"
   ]
  },
  {
   "cell_type": "code",
   "execution_count": 20,
   "metadata": {},
   "outputs": [
    {
     "name": "stdout",
     "output_type": "stream",
     "text": [
      "+---------+--------------------+\n",
      "|programID|           orchestra|\n",
      "+---------+--------------------+\n",
      "|     2561|New York Philharm...|\n",
      "+---------+--------------------+\n",
      "\n"
     ]
    }
   ],
   "source": [
    "#solution code here\n",
    "df_orchestra.select(\"programID\",\"orchestra\").filter(col(\"programID\")==\"2561\").show()"
   ]
  },
  {
   "cell_type": "markdown",
   "metadata": {},
   "source": [
    "Refer & Use Orchestra.xml to answer problem 14-15 below"
   ]
  },
  {
   "cell_type": "markdown",
   "metadata": {},
   "source": [
    "PROBLEM 14: Display locations used for event at time 8:15 PM"
   ]
  },
  {
   "cell_type": "code",
   "execution_count": 21,
   "metadata": {},
   "outputs": [],
   "source": [
    "#solution code here\n",
    "def get_locations(concerts,time):\n",
    "    locations = []\n",
    "    if len(concerts) > 0:\n",
    "        for concert in concerts:\n",
    "            if concert['Time'] == '8:15PM':\n",
    "                locations.append(concert['Location'])\n",
    "    if len(locations) > 0:\n",
    "        return locations\n",
    "    else:\n",
    "        return \"\"\n",
    "\n",
    "locationsUDF = udf(lambda colname,sname: get_locations(colname,sname))"
   ]
  },
  {
   "cell_type": "code",
   "execution_count": 22,
   "metadata": {},
   "outputs": [
    {
     "name": "stdout",
     "output_type": "stream",
     "text": [
      "+--------------------+--------------------+--------------------+---------+---------------+\n",
      "|                  id|           orchestra|            concerts|programID|return_location|\n",
      "+--------------------+--------------------+--------------------+---------+---------------+\n",
      "|1124c816-f97c-4cf...|   New York Symphony|[{1888-12-28T05:0...|    11610|[Manhattan, NY]|\n",
      "|7e1d590a-9750-4e0...|   New York Symphony|[{1889-12-13T05:0...|     7921|[Manhattan, NY]|\n",
      "|ebe38ed5-af8a-42c...|   New York Symphony|[{1890-01-31T05:0...|     8072|[Manhattan, NY]|\n",
      "|fa51a57c-f27c-430...|   New York Symphony|[{1891-11-17T05:0...|    14304|[Manhattan, NY]|\n",
      "|20df0162-d9ad-407...|   New York Symphony|[{1891-11-19T05:0...|    14305|[Manhattan, NY]|\n",
      "|c5f00d41-3ae7-499...|   New York Symphony|[{1892-01-15T05:0...|     8087|[Manhattan, NY]|\n",
      "|de6b31a7-d117-47e...|   New York Symphony|[{1892-02-05T05:0...|     8088|[Manhattan, NY]|\n",
      "|637c6a11-0e03-48c...|   New York Symphony|[{1892-03-04T05:0...|     8089|[Manhattan, NY]|\n",
      "|d617e80c-a31a-415...|   New York Symphony|[{1892-04-01T05:0...|     8090|[Manhattan, NY]|\n",
      "|d37f0df9-9e87-477...|Members of NY Phi...|[{1892-10-21T05:0...|     9742|[Manhattan, NY]|\n",
      "|58aa553d-b941-4b9...|   New York Symphony|[{1892-11-11T05:0...|     8091|[Manhattan, NY]|\n",
      "|55d5fc26-abb2-409...|   New York Symphony|[{1892-12-02T05:0...|     8092|[Manhattan, NY]|\n",
      "|384caf29-6ebc-40b...|New York Philharm...|[{1892-12-16T05:0...|     6073|[Manhattan, NY]|\n",
      "|2678ff7b-ecfa-4c7...|   New York Symphony|[{1893-01-06T05:0...|     8093|[Manhattan, NY]|\n",
      "|43599c50-2a7d-40d...|New York Philharm...|[{1893-01-13T05:0...|     2391|[Manhattan, NY]|\n",
      "|e39ec35e-ab4e-41f...|   New York Symphony|[{1893-02-03T05:0...|     8104|[Manhattan, NY]|\n",
      "|9786f71d-9e46-405...|New York Philharm...|[{1893-02-10T05:0...|     6730|[Manhattan, NY]|\n",
      "|61de5748-841a-428...|New York Philharm...|[{1893-03-03T05:0...|     3710|[Manhattan, NY]|\n",
      "|a9501082-5d8e-449...|   New York Symphony|[{1893-03-10T05:0...|     8105|[Manhattan, NY]|\n",
      "|66cd0517-a1d9-4b1...|New York Philharm...|[{1893-03-24T05:0...|     3714|[Manhattan, NY]|\n",
      "|a8f7f5ce-cb62-4db...|   New York Symphony|[{1893-11-10T05:0...|     8107|[Manhattan, NY]|\n",
      "|0c851376-a2b2-4a7...|New York Philharm...|[{1893-11-17T05:0...|     2589|[Manhattan, NY]|\n",
      "|e02e6ffd-4071-451...|   New York Symphony|[{1893-11-19T05:0...|     9741|[Manhattan, NY]|\n",
      "|f61c75a0-7355-4a2...|   New York Symphony|[{1893-12-08T05:0...|     8108|[Manhattan, NY]|\n",
      "|489b901d-bd34-40c...|New York Philharm...|[{1893-12-15T05:0...|     6924|[Manhattan, NY]|\n",
      "|324d6827-eabb-41e...|   New York Symphony|[{1894-01-05T05:0...|     8109|[Manhattan, NY]|\n",
      "|50fcb7b0-f8e7-407...|New York Philharm...|[{1894-01-12T05:0...|     3280|[Manhattan, NY]|\n",
      "|f439468c-ee5b-43a...|New York Philharm...|[{1894-02-09T05:0...|      252|[Manhattan, NY]|\n",
      "|d16b069c-3509-454...|New York Philharm...|[{1894-03-09T05:0...|     4619|[Manhattan, NY]|\n",
      "|3bbe1795-301b-4a3...|   New York Symphony|[{1894-03-16T05:0...|     8112|[Manhattan, NY]|\n",
      "|c5ccb40c-2863-4c2...|New York Philharm...|[{1894-04-06T05:0...|     1598|[Manhattan, NY]|\n",
      "|f5c265a2-e66d-4a0...|   New York Symphony|[{1894-11-09T05:0...|     8113|[Manhattan, NY]|\n",
      "|4dba2644-4271-43e...|New York Philharm...|[{1894-11-16T05:0...|     3497|[Manhattan, NY]|\n",
      "|3e41efc1-0f56-494...|   New York Symphony|[{1894-12-07T05:0...|     8114|[Manhattan, NY]|\n",
      "|6ad4c55c-ec61-41a...|New York Philharm...|[{1894-12-14T05:0...|      435|[Manhattan, NY]|\n",
      "|eb3ed63a-6b27-449...|   New York Symphony|[{1894-12-29T05:0...|    11624|[Manhattan, NY]|\n",
      "|6587d4bd-e471-4c3...|   New York Symphony|[{1895-01-04T05:0...|     8115|[Manhattan, NY]|\n",
      "|2fadbd45-5e46-482...|   New York Symphony|[{1895-01-06T05:0...|    10576|[Manhattan, NY]|\n",
      "|eb47e326-1219-466...|New York Philharm...|[{1895-01-11T05:0...|     4191|[Manhattan, NY]|\n",
      "|a51c295b-e56d-4a3...|   New York Symphony|[{1895-02-01T05:0...|     8118|[Manhattan, NY]|\n",
      "+--------------------+--------------------+--------------------+---------+---------------+\n",
      "only showing top 40 rows\n",
      "\n"
     ]
    }
   ],
   "source": [
    "test = df_orchestra.withColumn(\"return_location\",locationsUDF(\"concerts\",lit(\"8:15PM\")))\n",
    "test.select(\"id\",\"orchestra\",\"concerts\",\"programID\",\"return_location\").filter(col(\"return_location\")!=\"\").show(40)"
   ]
  },
  {
   "cell_type": "code",
   "execution_count": 23,
   "metadata": {},
   "outputs": [
    {
     "name": "stdout",
     "output_type": "stream",
     "text": [
      "+--------------------+\n",
      "|     return_location|\n",
      "+--------------------+\n",
      "|   [Springfield, MA]|\n",
      "|        [Newark, NJ]|\n",
      "|     [Manhattan, NY]|\n",
      "|    [Providence, RI]|\n",
      "|  [Indianapolis, IN]|\n",
      "|     [New Haven, CT]|\n",
      "|      [Brooklyn, NY]|\n",
      "|  [Philadelphia, PA]|\n",
      "|      [Hartford, CT]|\n",
      "|[Manhattan, NY, B...|\n",
      "|[Manhattan, NY, M...|\n",
      "+--------------------+\n",
      "\n"
     ]
    }
   ],
   "source": [
    "test.filter(col(\"return_location\")!=\"\").select(\"return_location\").distinct().show(40)"
   ]
  },
  {
   "cell_type": "markdown",
   "metadata": {},
   "source": [
    "PROBLEM 15: Display total number of programs"
   ]
  },
  {
   "cell_type": "code",
   "execution_count": 24,
   "metadata": {},
   "outputs": [
    {
     "data": {
      "text/plain": [
       "1033"
      ]
     },
     "execution_count": 24,
     "metadata": {},
     "output_type": "execute_result"
    }
   ],
   "source": [
    "#solution code here\n",
    "df_orchestra.count()"
   ]
  },
  {
   "cell_type": "markdown",
   "metadata": {},
   "source": [
    "********************************************* Test ends here **************************************************"
   ]
  }
 ],
 "metadata": {
  "kernelspec": {
   "display_name": "Python 3",
   "language": "python",
   "name": "python3"
  },
  "language_info": {
   "codemirror_mode": {
    "name": "ipython",
    "version": 3
   },
   "file_extension": ".py",
   "mimetype": "text/x-python",
   "name": "python",
   "nbconvert_exporter": "python",
   "pygments_lexer": "ipython3",
   "version": "3.8.5"
  }
 },
 "nbformat": 4,
 "nbformat_minor": 4
}
